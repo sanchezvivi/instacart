{
 "cells": [
  {
   "cell_type": "code",
   "execution_count": 1,
   "metadata": {
    "execution": {
     "iopub.execute_input": "2020-09-04T23:30:45.619831Z",
     "iopub.status.busy": "2020-09-04T23:30:45.619527Z",
     "iopub.status.idle": "2020-09-04T23:30:46.366855Z",
     "shell.execute_reply": "2020-09-04T23:30:46.366013Z",
     "shell.execute_reply.started": "2020-09-04T23:30:45.619804Z"
    }
   },
   "outputs": [],
   "source": [
    "import telebot\n",
    "from time import time\n",
    "import pandas as pd\n",
    "from os import listdir\n",
    "from pprint import pprint"
   ]
  },
  {
   "cell_type": "code",
   "execution_count": 2,
   "metadata": {
    "execution": {
     "iopub.execute_input": "2020-09-04T23:30:47.260615Z",
     "iopub.status.busy": "2020-09-04T23:30:47.260311Z",
     "iopub.status.idle": "2020-09-04T23:30:47.264132Z",
     "shell.execute_reply": "2020-09-04T23:30:47.263233Z",
     "shell.execute_reply.started": "2020-09-04T23:30:47.260585Z"
    }
   },
   "outputs": [],
   "source": [
    "token = '783192310:AAGHRbqknl-gArkYLcbTYmk2necszfIhQuA'"
   ]
  },
  {
   "cell_type": "code",
   "execution_count": 3,
   "metadata": {
    "execution": {
     "iopub.execute_input": "2020-09-04T23:30:48.596580Z",
     "iopub.status.busy": "2020-09-04T23:30:48.596221Z",
     "iopub.status.idle": "2020-09-04T23:30:48.601304Z",
     "shell.execute_reply": "2020-09-04T23:30:48.600306Z",
     "shell.execute_reply.started": "2020-09-04T23:30:48.596546Z"
    }
   },
   "outputs": [],
   "source": [
    "bot = telebot.TeleBot(token, parse_mode=None) # You can set parse_mode by default. HTML or MARKDOWN"
   ]
  },
  {
   "cell_type": "code",
   "execution_count": 4,
   "metadata": {
    "execution": {
     "iopub.execute_input": "2020-09-04T23:30:49.520032Z",
     "iopub.status.busy": "2020-09-04T23:30:49.519743Z",
     "iopub.status.idle": "2020-09-04T23:30:49.523065Z",
     "shell.execute_reply": "2020-09-04T23:30:49.522245Z",
     "shell.execute_reply.started": "2020-09-04T23:30:49.520004Z"
    }
   },
   "outputs": [],
   "source": [
    "data_path = '../data/'\n",
    "# data_path = '/media/evilcube/98D60E9BD60E79B0/Users/EvilCube/Desktop/Projeto Integrador/instacart/data/' # Marcelo Linux"
   ]
  },
  {
   "cell_type": "code",
   "execution_count": 5,
   "metadata": {
    "execution": {
     "iopub.execute_input": "2020-09-04T23:30:50.566349Z",
     "iopub.status.busy": "2020-09-04T23:30:50.566056Z",
     "iopub.status.idle": "2020-09-04T23:30:59.660502Z",
     "shell.execute_reply": "2020-09-04T23:30:59.659796Z",
     "shell.execute_reply.started": "2020-09-04T23:30:50.566321Z"
    }
   },
   "outputs": [],
   "source": [
    "# loadings\n",
    "df_produto= pd.read_csv(data_path + 'products.csv')\n",
    "df_order = pd.read_csv(data_path + 'order_products__prior.csv') #apenas prior - fazer teste com a base train\n",
    "df_depat = pd.read_csv(data_path + 'departments.csv')\n",
    "df_pedido= pd.read_csv(data_path + 'orders.csv')\n",
    "df_aisles = pd.read_csv(data_path + 'aisles.csv')"
   ]
  },
  {
   "cell_type": "code",
   "execution_count": 6,
   "metadata": {
    "execution": {
     "iopub.execute_input": "2020-09-04T23:33:38.273459Z",
     "iopub.status.busy": "2020-09-04T23:33:38.273154Z",
     "iopub.status.idle": "2020-09-04T23:34:05.751364Z",
     "shell.execute_reply": "2020-09-04T23:34:05.750450Z",
     "shell.execute_reply.started": "2020-09-04T23:33:38.273429Z"
    }
   },
   "outputs": [],
   "source": [
    "# Joins\n",
    "df_join=pd.merge(df_order,df_produto,  \n",
    "                 on='product_id', \n",
    "                 how='left')\n",
    "\n",
    "df_join=pd.merge(df_join,df_depat ,  \n",
    "                 on='department_id', \n",
    "                 how='left')\n",
    "\n",
    "df_join=pd.merge(df_join,df_pedido ,  \n",
    "                 on='order_id', \n",
    "                 how='left')"
   ]
  },
  {
   "cell_type": "code",
   "execution_count": 7,
   "metadata": {
    "execution": {
     "iopub.execute_input": "2020-09-04T23:34:05.753328Z",
     "iopub.status.busy": "2020-09-04T23:34:05.753063Z",
     "iopub.status.idle": "2020-09-04T23:34:05.757662Z",
     "shell.execute_reply": "2020-09-04T23:34:05.756923Z",
     "shell.execute_reply.started": "2020-09-04T23:34:05.753301Z"
    }
   },
   "outputs": [],
   "source": [
    "def get_most_ordered_products(df_base, user_id):\n",
    "    return \"\\n\".join(list(df_base[df_base[\"user_id\"]==user_id].groupby('product_name').count().sort_values('order_id')[:15].index))\n",
    "\n",
    "# print(get_most_ordered_products(df_join,202279))"
   ]
  },
  {
   "cell_type": "code",
   "execution_count": 8,
   "metadata": {
    "execution": {
     "iopub.execute_input": "2020-09-04T23:34:42.139096Z",
     "iopub.status.busy": "2020-09-04T23:34:42.138805Z",
     "iopub.status.idle": "2020-09-04T23:34:42.144189Z",
     "shell.execute_reply": "2020-09-04T23:34:42.142939Z",
     "shell.execute_reply.started": "2020-09-04T23:34:42.139067Z"
    }
   },
   "outputs": [],
   "source": [
    "def get_last_order_products(user_id, df_base):\n",
    "    last_order_id =  df_base[df_base[\"user_id\"]==user_id]['order_id'].max() ### ordenar por order_number e selecionar order_id\n",
    "    last_order = df_base[(df_base['user_id']==user_id) & (df_base['order_id'] == last_order_id)]\n",
    "    return last_order.groupby('product_name')['product_name'].count()\n",
    "    # arrumar o print\n",
    "    \n",
    "# test\n",
    "# get_last_order_products(202279, df_join)"
   ]
  },
  {
   "cell_type": "code",
   "execution_count": null,
   "metadata": {},
   "outputs": [],
   "source": []
  },
  {
   "cell_type": "code",
   "execution_count": null,
   "metadata": {},
   "outputs": [],
   "source": []
  },
  {
   "cell_type": "markdown",
   "metadata": {},
   "source": [
    "# Mensagens padrão"
   ]
  },
  {
   "cell_type": "code",
   "execution_count": 9,
   "metadata": {
    "execution": {
     "iopub.execute_input": "2020-09-04T23:35:02.314509Z",
     "iopub.status.busy": "2020-09-04T23:35:02.314207Z",
     "iopub.status.idle": "2020-09-04T23:35:02.325891Z",
     "shell.execute_reply": "2020-09-04T23:35:02.324945Z",
     "shell.execute_reply.started": "2020-09-04T23:35:02.314479Z"
    }
   },
   "outputs": [],
   "source": [
    "@bot.message_handler(commands=['start'])\n",
    "def send_welcome(message):\n",
    "    chat_id = message.chat.id\n",
    "    text = \"\"\"\n",
    "    Bem vind@ ao Instacart bot :) 🥕\n",
    "    \n",
    "    Digite a opção desejada:\n",
    "    /1 - Ver o status do pedido\n",
    "    /2 - Quero fazer um pedido\n",
    "    /3 - Reagendar uma entrega\n",
    "    /4 - Fazer uma reclamação\n",
    "    \"\"\"\n",
    "    bot.send_message(chat_id, text)\n",
    "\n",
    "@bot.message_handler(commands=['1'])\n",
    "def send_welcome(message):\n",
    "    chat_id = message.chat.id\n",
    "    text = \"\"\"\n",
    "    Sua compra será entregue às 15h - 05/07\n",
    "    \"\"\"\n",
    "    bot.send_message(chat_id, text)\n",
    "    \n",
    "@bot.message_handler(commands=['2'])\n",
    "def send_welcome(message):\n",
    "    chat_id = message.chat.id\n",
    "    text = \"\"\"\n",
    "    /21 - Refazer o último pedido\n",
    "    /22 - Fazer uma nova compra com os produtos mais solicitados\n",
    "    /23 - Fazer uma nova compra\n",
    "    \"\"\"\n",
    "    bot.send_message(chat_id, text)\n",
    "\n",
    "@bot.message_handler(commands=['21'])\n",
    "def send_welcome(message):\n",
    "    chat_id = message.chat.id\n",
    "    text = f\"\"\"\n",
    "    Seu último pedido:\n",
    "    {get_last_order_products(202279, df_join)}\n",
    "    \n",
    "    Gostaria de confirmar pedido?\n",
    "    /sim\n",
    "    /não\n",
    "    \"\"\"\n",
    "    bot.send_message(chat_id, text)\n",
    "\n",
    "@bot.message_handler(commands=['sim'])\n",
    "def send_welcome(message):\n",
    "    chat_id = message.chat.id\n",
    "    text = f\"\"\"\n",
    "    Pedido confirmado! \n",
    "    \"\"\"\n",
    "    bot.send_message(chat_id, text)"
   ]
  },
  {
   "cell_type": "markdown",
   "metadata": {},
   "source": [
    "# Mensagens churn"
   ]
  },
  {
   "cell_type": "code",
   "execution_count": null,
   "metadata": {},
   "outputs": [],
   "source": [
    "def churn_message(bot, user_id, name, days):\n",
    "    text = f'''\n",
    "Olá {name}! Como você está?\n",
    "\n",
    "Verificamos que sua última compra foi há mais de {days} dias, e para te ajudar posso montar seu carrinho.\n",
    "E nos próximos dois dias a taxa de entrega é por nossa conta :)\n",
    "\n",
    "Deseja ver as sugestões que eu preparei especialmente pra você?\n",
    "\n",
    "/ultimo_pedido\n",
    "/mais_comprados\n",
    "/nao\n",
    "'''\n",
    "    bot.send_message(user_id, text)"
   ]
  },
  {
   "cell_type": "code",
   "execution_count": 11,
   "metadata": {
    "execution": {
     "iopub.execute_input": "2020-09-04T23:35:12.905529Z",
     "iopub.status.busy": "2020-09-04T23:35:12.905233Z",
     "iopub.status.idle": "2020-09-04T23:35:12.911882Z",
     "shell.execute_reply": "2020-09-04T23:35:12.911156Z",
     "shell.execute_reply.started": "2020-09-04T23:35:12.905500Z"
    }
   },
   "outputs": [],
   "source": [
    "@bot.message_handler(commands=['mais_comprados'])\n",
    "def churn_yes(message):\n",
    "    chat_id = message.chat.id\n",
    "    text = f'''\n",
    "    O que você acha desse carrinho que montei especialmente para você ❤️:\n",
    "    \n",
    "    {get_most_ordered_products(df_join,202279)}\n",
    "    '''\n",
    "    bot.send_message(chat_id, text)\n",
    "\n",
    "@bot.message_handler(commands=['ultimo_pedido'])\n",
    "def churn_yes(message):\n",
    "    chat_id = message.chat.id\n",
    "    text = f'''\n",
    "    O que você acha desse carrinho que montei especialmente para você ❤️:\n",
    "    \n",
    "    {get_last_order_products(202279, df_join)}\n",
    "    '''\n",
    "    bot.send_message(chat_id, text)\n",
    "\n",
    "@bot.message_handler(commands=['nao'])\n",
    "def churn_yes(message):\n",
    "    chat_id = message.chat.id\n",
    "    text = f'''\n",
    "Que pena :(\n",
    "\n",
    "Quando precisar de algo é só chamar com /start\n",
    "    '''\n",
    "    bot.send_message(chat_id, text)\n",
    "\n",
    "\n",
    "#churn_message(bot, 1313926372, 'Rafaela', 10)"
   ]
  },
  {
   "cell_type": "code",
   "execution_count": null,
   "metadata": {
    "execution": {
     "iopub.status.busy": "2020-09-04T23:26:03.073145Z",
     "iopub.status.idle": "2020-09-04T23:26:03.073637Z"
    }
   },
   "outputs": [],
   "source": [
    "# bot.send_message(chat_id = '@pads_instacart', text = 'Hellos')"
   ]
  },
  {
   "cell_type": "code",
   "execution_count": null,
   "metadata": {
    "execution": {
     "iopub.execute_input": "2020-09-04T23:35:17.583939Z",
     "iopub.status.busy": "2020-09-04T23:35:17.583651Z"
    }
   },
   "outputs": [],
   "source": [
    "# Start \"Server\"\n",
    "bot.polling()"
   ]
  },
  {
   "cell_type": "code",
   "execution_count": 7,
   "metadata": {
    "execution": {
     "iopub.execute_input": "2020-09-04T23:26:06.250960Z",
     "iopub.status.busy": "2020-09-04T23:26:06.250644Z",
     "iopub.status.idle": "2020-09-04T23:26:08.432591Z",
     "shell.execute_reply": "2020-09-04T23:26:08.431869Z",
     "shell.execute_reply.started": "2020-09-04T23:26:06.250927Z"
    }
   },
   "outputs": [
    {
     "data": {
      "text/plain": [
       "<telebot.types.Message at 0x10f3fca90>"
      ]
     },
     "execution_count": 7,
     "metadata": {},
     "output_type": "execute_result"
    }
   ],
   "source": [
    "bot.send_message(chat_id = 1313926372, text = 'Hellos')"
   ]
  },
  {
   "cell_type": "markdown",
   "metadata": {},
   "source": [
    "* Pedidos mais frequentes\n",
    " - calcular a média de itens por usuário ROUND UP\n",
    "* Arrumar a formatação\n",
    "* perguntar (fechar compra? Enviar para o último endereço/horário/forma de pagamento)"
   ]
  },
  {
   "cell_type": "code",
   "execution_count": null,
   "metadata": {},
   "outputs": [],
   "source": []
  }
 ],
 "metadata": {
  "kernelspec": {
   "display_name": "Python 3",
   "language": "python",
   "name": "python3"
  },
  "language_info": {
   "codemirror_mode": {
    "name": "ipython",
    "version": 3
   },
   "file_extension": ".py",
   "mimetype": "text/x-python",
   "name": "python",
   "nbconvert_exporter": "python",
   "pygments_lexer": "ipython3",
   "version": "3.7.7"
  }
 },
 "nbformat": 4,
 "nbformat_minor": 4
}
