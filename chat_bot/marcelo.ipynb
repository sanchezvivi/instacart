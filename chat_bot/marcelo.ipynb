{
 "cells": [
  {
   "cell_type": "code",
   "execution_count": 9,
   "metadata": {
    "execution": {
     "iopub.execute_input": "2020-08-29T15:41:08.737343Z",
     "iopub.status.busy": "2020-08-29T15:41:08.737343Z",
     "iopub.status.idle": "2020-08-29T15:41:08.755293Z",
     "shell.execute_reply": "2020-08-29T15:41:08.753300Z",
     "shell.execute_reply.started": "2020-08-29T15:41:08.737343Z"
    }
   },
   "outputs": [],
   "source": [
    "import telebot\n",
    "from time import time\n",
    "import pandas as pd\n",
    "from os import listdir\n",
    "from pprint import pprint"
   ]
  },
  {
   "cell_type": "code",
   "execution_count": 2,
   "metadata": {
    "execution": {
     "iopub.execute_input": "2020-08-29T15:38:47.062246Z",
     "iopub.status.busy": "2020-08-29T15:38:47.061247Z",
     "iopub.status.idle": "2020-08-29T15:38:47.084187Z",
     "shell.execute_reply": "2020-08-29T15:38:47.082193Z",
     "shell.execute_reply.started": "2020-08-29T15:38:47.062246Z"
    }
   },
   "outputs": [],
   "source": [
    "token = '783192310:AAGHRbqknl-gArkYLcbTYmk2necszfIhQuA'"
   ]
  },
  {
   "cell_type": "code",
   "execution_count": 32,
   "metadata": {
    "execution": {
     "iopub.execute_input": "2020-08-29T15:45:43.535847Z",
     "iopub.status.busy": "2020-08-29T15:45:43.534850Z",
     "iopub.status.idle": "2020-08-29T15:45:43.552800Z",
     "shell.execute_reply": "2020-08-29T15:45:43.550806Z",
     "shell.execute_reply.started": "2020-08-29T15:45:43.535847Z"
    }
   },
   "outputs": [],
   "source": [
    "bot = telebot.TeleBot(token, parse_mode=None) # You can set parse_mode by default. HTML or MARKDOWN"
   ]
  },
  {
   "cell_type": "code",
   "execution_count": 4,
   "metadata": {
    "execution": {
     "iopub.execute_input": "2020-08-29T15:38:47.965316Z",
     "iopub.status.busy": "2020-08-29T15:38:47.964318Z",
     "iopub.status.idle": "2020-08-29T15:38:47.979279Z",
     "shell.execute_reply": "2020-08-29T15:38:47.977285Z",
     "shell.execute_reply.started": "2020-08-29T15:38:47.965316Z"
    }
   },
   "outputs": [],
   "source": [
    "data_path = '../data/'"
   ]
  },
  {
   "cell_type": "code",
   "execution_count": 5,
   "metadata": {
    "execution": {
     "iopub.execute_input": "2020-08-29T15:38:48.457004Z",
     "iopub.status.busy": "2020-08-29T15:38:48.456008Z",
     "iopub.status.idle": "2020-08-29T15:38:57.001571Z",
     "shell.execute_reply": "2020-08-29T15:38:57.001571Z",
     "shell.execute_reply.started": "2020-08-29T15:38:48.457004Z"
    }
   },
   "outputs": [],
   "source": [
    "# loadings\n",
    "df_produto= pd.read_csv(data_path + 'products.csv')\n",
    "df_order = pd.read_csv(data_path + 'order_products__prior.csv')\n",
    "df_depat = pd.read_csv(data_path + 'departments.csv')\n",
    "df_pedido= pd.read_csv(data_path + 'orders.csv')\n",
    "df_aisles = pd.read_csv(data_path + 'aisles.csv')"
   ]
  },
  {
   "cell_type": "code",
   "execution_count": 7,
   "metadata": {
    "execution": {
     "iopub.execute_input": "2020-08-29T15:40:35.442023Z",
     "iopub.status.busy": "2020-08-29T15:40:35.442023Z",
     "iopub.status.idle": "2020-08-29T15:40:52.536365Z",
     "shell.execute_reply": "2020-08-29T15:40:52.536365Z",
     "shell.execute_reply.started": "2020-08-29T15:40:35.442023Z"
    }
   },
   "outputs": [],
   "source": [
    "# Joins\n",
    "df_join=pd.merge(df_order,df_produto,  \n",
    "                 on='product_id', \n",
    "                 how='left')\n",
    "\n",
    "df_join=pd.merge(df_join,df_depat ,  \n",
    "                 on='department_id', \n",
    "                 how='left')\n",
    "\n",
    "df_join=pd.merge(df_join,df_pedido ,  \n",
    "                 on='order_id', \n",
    "                 how='left')"
   ]
  },
  {
   "cell_type": "code",
   "execution_count": 24,
   "metadata": {
    "execution": {
     "iopub.execute_input": "2020-08-29T15:01:32.687983Z",
     "iopub.status.busy": "2020-08-29T15:01:32.687983Z",
     "iopub.status.idle": "2020-08-29T15:01:32.716905Z",
     "shell.execute_reply": "2020-08-29T15:01:32.715935Z",
     "shell.execute_reply.started": "2020-08-29T15:01:32.687983Z"
    }
   },
   "outputs": [
    {
     "data": {
      "text/html": [
       "<div>\n",
       "<style scoped>\n",
       "    .dataframe tbody tr th:only-of-type {\n",
       "        vertical-align: middle;\n",
       "    }\n",
       "\n",
       "    .dataframe tbody tr th {\n",
       "        vertical-align: top;\n",
       "    }\n",
       "\n",
       "    .dataframe thead th {\n",
       "        text-align: right;\n",
       "    }\n",
       "</style>\n",
       "<table border=\"1\" class=\"dataframe\">\n",
       "  <thead>\n",
       "    <tr style=\"text-align: right;\">\n",
       "      <th></th>\n",
       "      <th>order_id</th>\n",
       "      <th>product_id</th>\n",
       "      <th>add_to_cart_order</th>\n",
       "      <th>reordered</th>\n",
       "      <th>product_name</th>\n",
       "      <th>aisle_id</th>\n",
       "      <th>department_id</th>\n",
       "      <th>department</th>\n",
       "      <th>user_id</th>\n",
       "      <th>eval_set</th>\n",
       "      <th>order_number</th>\n",
       "      <th>order_dow</th>\n",
       "      <th>order_hour_of_day</th>\n",
       "      <th>days_since_prior_order</th>\n",
       "    </tr>\n",
       "  </thead>\n",
       "  <tbody>\n",
       "    <tr>\n",
       "      <th>0</th>\n",
       "      <td>2</td>\n",
       "      <td>33120</td>\n",
       "      <td>1</td>\n",
       "      <td>1</td>\n",
       "      <td>Organic Egg Whites</td>\n",
       "      <td>86</td>\n",
       "      <td>16</td>\n",
       "      <td>dairy eggs</td>\n",
       "      <td>202279</td>\n",
       "      <td>prior</td>\n",
       "      <td>3</td>\n",
       "      <td>5</td>\n",
       "      <td>9</td>\n",
       "      <td>8.0</td>\n",
       "    </tr>\n",
       "    <tr>\n",
       "      <th>1</th>\n",
       "      <td>2</td>\n",
       "      <td>28985</td>\n",
       "      <td>2</td>\n",
       "      <td>1</td>\n",
       "      <td>Michigan Organic Kale</td>\n",
       "      <td>83</td>\n",
       "      <td>4</td>\n",
       "      <td>produce</td>\n",
       "      <td>202279</td>\n",
       "      <td>prior</td>\n",
       "      <td>3</td>\n",
       "      <td>5</td>\n",
       "      <td>9</td>\n",
       "      <td>8.0</td>\n",
       "    </tr>\n",
       "    <tr>\n",
       "      <th>2</th>\n",
       "      <td>2</td>\n",
       "      <td>9327</td>\n",
       "      <td>3</td>\n",
       "      <td>0</td>\n",
       "      <td>Garlic Powder</td>\n",
       "      <td>104</td>\n",
       "      <td>13</td>\n",
       "      <td>pantry</td>\n",
       "      <td>202279</td>\n",
       "      <td>prior</td>\n",
       "      <td>3</td>\n",
       "      <td>5</td>\n",
       "      <td>9</td>\n",
       "      <td>8.0</td>\n",
       "    </tr>\n",
       "  </tbody>\n",
       "</table>\n",
       "</div>"
      ],
      "text/plain": [
       "   order_id  product_id  add_to_cart_order  reordered           product_name  \\\n",
       "0         2       33120                  1          1     Organic Egg Whites   \n",
       "1         2       28985                  2          1  Michigan Organic Kale   \n",
       "2         2        9327                  3          0          Garlic Powder   \n",
       "\n",
       "   aisle_id  department_id  department  user_id eval_set  order_number  \\\n",
       "0        86             16  dairy eggs   202279    prior             3   \n",
       "1        83              4     produce   202279    prior             3   \n",
       "2       104             13      pantry   202279    prior             3   \n",
       "\n",
       "   order_dow  order_hour_of_day  days_since_prior_order  \n",
       "0          5                  9                     8.0  \n",
       "1          5                  9                     8.0  \n",
       "2          5                  9                     8.0  "
      ]
     },
     "execution_count": 24,
     "metadata": {},
     "output_type": "execute_result"
    }
   ],
   "source": [
    "df_join.head(3)"
   ]
  },
  {
   "cell_type": "code",
   "execution_count": null,
   "metadata": {},
   "outputs": [],
   "source": []
  },
  {
   "cell_type": "code",
   "execution_count": 30,
   "metadata": {
    "execution": {
     "iopub.execute_input": "2020-08-29T15:44:28.948466Z",
     "iopub.status.busy": "2020-08-29T15:44:28.948466Z",
     "iopub.status.idle": "2020-08-29T15:44:29.229872Z",
     "shell.execute_reply": "2020-08-29T15:44:29.227877Z",
     "shell.execute_reply.started": "2020-08-29T15:44:28.948466Z"
    }
   },
   "outputs": [
    {
     "data": {
      "text/plain": [
       "product_name\n",
       "100% Organic Raw Coconut Butter                1\n",
       "Broccoli Slaw Traditional                      1\n",
       "Carrots                                        1\n",
       "Dairy Free Unsweetened Vanilla Coconut Milk    1\n",
       "Dark Chocolate Chips                           1\n",
       "French Vanilla Coconut Milk Creamer            1\n",
       "Organic High Fiber Coconut Flour               1\n",
       "Original Unflavored Gelatine Mix               1\n",
       "Name: product_name, dtype: int64"
      ]
     },
     "execution_count": 30,
     "metadata": {},
     "output_type": "execute_result"
    }
   ],
   "source": [
    "def get_last_order_products(user_id, df_base):\n",
    "    last_order_id =  df_base[df_base[\"user_id\"]==user_id]['order_id'].max()\n",
    "    last_order = df_base[(df_base['user_id']==user_id) & (df_base['order_id'] == last_order_id)]\n",
    "    return last_order.groupby('product_name')['product_name'].count()\n",
    "    # arrumar o print\n",
    "    \n",
    "# test\n",
    "get_last_order_products(202279, df_join)"
   ]
  },
  {
   "cell_type": "code",
   "execution_count": null,
   "metadata": {},
   "outputs": [],
   "source": []
  },
  {
   "cell_type": "code",
   "execution_count": null,
   "metadata": {},
   "outputs": [],
   "source": []
  },
  {
   "cell_type": "code",
   "execution_count": null,
   "metadata": {},
   "outputs": [],
   "source": []
  },
  {
   "cell_type": "code",
   "execution_count": 33,
   "metadata": {
    "execution": {
     "iopub.execute_input": "2020-08-29T15:45:45.442518Z",
     "iopub.status.busy": "2020-08-29T15:45:45.441523Z",
     "iopub.status.idle": "2020-08-29T15:45:45.473444Z",
     "shell.execute_reply": "2020-08-29T15:45:45.471445Z",
     "shell.execute_reply.started": "2020-08-29T15:45:45.442518Z"
    }
   },
   "outputs": [],
   "source": [
    "@bot.message_handler(commands=['start'])\n",
    "def send_welcome(message):\n",
    "    text = \"\"\"\n",
    "    Bem vind@ ao Instacart bot :) 🥕\n",
    "    \n",
    "    Digite a opção desejada:\n",
    "    /1 - Ver o status do pedido\n",
    "    /2 - Quero fazer um pedido\n",
    "    /3 - Reagendar uma entrega\n",
    "    /4 - Fazer uma reclamação\n",
    "    \"\"\"\n",
    "    bot.reply_to(message, text)\n",
    "\n",
    "@bot.message_handler(commands=['1'])\n",
    "def send_welcome(message):\n",
    "#     print(message.chat.id)\n",
    "    text = \"\"\"\n",
    "    Sua compra será entregue às 15h - 05/07\n",
    "    \"\"\"\n",
    "    bot.reply_to(message, text)\n",
    "    \n",
    "@bot.message_handler(commands=['2'])\n",
    "def send_welcome(message):\n",
    "#     print(message.chat.id)\n",
    "    text = \"\"\"\n",
    "    /21 - Refazer o último pedido\n",
    "    /22 - Fazer uma nova compra com os produtos mais solicitados\n",
    "    /23 - Fazer uma nova compra\n",
    "    \"\"\"\n",
    "    bot.reply_to(message, text)\n",
    "\n",
    "@bot.message_handler(commands=['21'])\n",
    "def send_welcome(message):\n",
    "#     print(message.chat.id)\n",
    "    text = f\"\"\"\n",
    "    Seu último pedido:\n",
    "    {get_last_order_products(202279, df_join)}\n",
    "    \n",
    "    Gostaria de confirmar pedido?\n",
    "    /sim\n",
    "    /não\n",
    "    \"\"\"\n",
    "    bot.reply_to(message, text)\n",
    "\n",
    "@bot.message_handler(commands=['sim'])\n",
    "def send_welcome(message):\n",
    "#     print(message.chat.id)\n",
    "    text = f\"\"\"\n",
    "    Pedido confirmado! \n",
    "    \"\"\"\n",
    "    bot.reply_to(message, text)"
   ]
  },
  {
   "cell_type": "code",
   "execution_count": null,
   "metadata": {
    "execution": {
     "iopub.status.busy": "2020-08-29T14:52:47.452476Z",
     "iopub.status.idle": "2020-08-29T14:52:47.453474Z"
    }
   },
   "outputs": [],
   "source": []
  },
  {
   "cell_type": "code",
   "execution_count": null,
   "metadata": {
    "execution": {
     "iopub.status.busy": "2020-08-29T14:52:47.457463Z",
     "iopub.status.idle": "2020-08-29T14:52:47.458460Z"
    }
   },
   "outputs": [],
   "source": [
    "# bot.send_message(chat_id = '@pads_instacart', text = 'Hellos')"
   ]
  },
  {
   "cell_type": "code",
   "execution_count": 34,
   "metadata": {
    "execution": {
     "iopub.execute_input": "2020-08-29T15:45:47.742919Z",
     "iopub.status.busy": "2020-08-29T15:45:47.741911Z",
     "iopub.status.idle": "2020-08-29T15:47:30.762753Z",
     "shell.execute_reply": "2020-08-29T15:47:30.759790Z",
     "shell.execute_reply.started": "2020-08-29T15:45:47.742919Z"
    }
   },
   "outputs": [],
   "source": [
    "# Start \"Server\"\n",
    "bot.polling()"
   ]
  },
  {
   "cell_type": "code",
   "execution_count": 35,
   "metadata": {
    "execution": {
     "iopub.execute_input": "2020-08-29T15:47:30.766742Z",
     "iopub.status.busy": "2020-08-29T15:47:30.765745Z",
     "iopub.status.idle": "2020-08-29T15:47:31.732579Z",
     "shell.execute_reply": "2020-08-29T15:47:31.730585Z",
     "shell.execute_reply.started": "2020-08-29T15:47:30.766742Z"
    }
   },
   "outputs": [
    {
     "data": {
      "text/plain": [
       "<telebot.types.Message at 0x1f9b191d550>"
      ]
     },
     "execution_count": 35,
     "metadata": {},
     "output_type": "execute_result"
    }
   ],
   "source": [
    "bot.send_message(chat_id = 1313926372, text = 'Hellos')"
   ]
  },
  {
   "cell_type": "code",
   "execution_count": null,
   "metadata": {},
   "outputs": [],
   "source": []
  }
 ],
 "metadata": {
  "kernelspec": {
   "display_name": "Python 3",
   "language": "python",
   "name": "python3"
  },
  "language_info": {
   "codemirror_mode": {
    "name": "ipython",
    "version": 3
   },
   "file_extension": ".py",
   "mimetype": "text/x-python",
   "name": "python",
   "nbconvert_exporter": "python",
   "pygments_lexer": "ipython3",
   "version": "3.8.5"
  }
 },
 "nbformat": 4,
 "nbformat_minor": 4
}
