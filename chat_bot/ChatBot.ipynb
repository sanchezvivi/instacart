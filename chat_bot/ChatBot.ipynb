{
 "cells": [
  {
   "cell_type": "code",
   "execution_count": 1,
   "metadata": {
    "execution": {
     "iopub.execute_input": "2020-09-04T23:30:45.619831Z",
     "iopub.status.busy": "2020-09-04T23:30:45.619527Z",
     "iopub.status.idle": "2020-09-04T23:30:46.366855Z",
     "shell.execute_reply": "2020-09-04T23:30:46.366013Z",
     "shell.execute_reply.started": "2020-09-04T23:30:45.619804Z"
    },
    "scrolled": true
   },
   "outputs": [],
   "source": [
    "import telebot\n",
    "from time import time\n",
    "import pandas as pd\n",
    "from os import listdir"
   ]
  },
  {
   "cell_type": "code",
   "execution_count": 2,
   "metadata": {
    "execution": {
     "iopub.execute_input": "2020-09-04T23:30:47.260615Z",
     "iopub.status.busy": "2020-09-04T23:30:47.260311Z",
     "iopub.status.idle": "2020-09-04T23:30:47.264132Z",
     "shell.execute_reply": "2020-09-04T23:30:47.263233Z",
     "shell.execute_reply.started": "2020-09-04T23:30:47.260585Z"
    }
   },
   "outputs": [],
   "source": [
    "token = 'your-api-token' #get here: https://core.telegram.org/bots"
   ]
  },
  {
   "cell_type": "code",
   "execution_count": null,
   "metadata": {
    "execution": {
     "iopub.execute_input": "2020-09-04T23:30:48.596580Z",
     "iopub.status.busy": "2020-09-04T23:30:48.596221Z",
     "iopub.status.idle": "2020-09-04T23:30:48.601304Z",
     "shell.execute_reply": "2020-09-04T23:30:48.600306Z",
     "shell.execute_reply.started": "2020-09-04T23:30:48.596546Z"
    }
   },
   "outputs": [],
   "source": [
    "bot = telebot.TeleBot(token, parse_mode='HTML') # You can set parse_mode by default. HTML or MARKDOWN"
   ]
  },
  {
   "cell_type": "code",
   "execution_count": 3,
   "metadata": {
    "execution": {
     "iopub.execute_input": "2020-09-04T23:30:49.520032Z",
     "iopub.status.busy": "2020-09-04T23:30:49.519743Z",
     "iopub.status.idle": "2020-09-04T23:30:49.523065Z",
     "shell.execute_reply": "2020-09-04T23:30:49.522245Z",
     "shell.execute_reply.started": "2020-09-04T23:30:49.520004Z"
    }
   },
   "outputs": [],
   "source": [
    "data_path = '../data/'"
   ]
  },
  {
   "cell_type": "code",
   "execution_count": 4,
   "metadata": {
    "execution": {
     "iopub.execute_input": "2020-09-04T23:30:50.566349Z",
     "iopub.status.busy": "2020-09-04T23:30:50.566056Z",
     "iopub.status.idle": "2020-09-04T23:30:59.660502Z",
     "shell.execute_reply": "2020-09-04T23:30:59.659796Z",
     "shell.execute_reply.started": "2020-09-04T23:30:50.566321Z"
    }
   },
   "outputs": [],
   "source": [
    "# Loadings\n",
    "df_produto= pd.read_csv(data_path + 'products.csv')\n",
    "df_order = pd.read_csv(data_path + 'order_products__prior.csv') #apenas prior - fazer teste com a base train\n",
    "df_depat = pd.read_csv(data_path + 'departments.csv')\n",
    "df_pedido= pd.read_csv(data_path + 'orders.csv')\n",
    "df_aisles = pd.read_csv(data_path + 'aisles.csv')"
   ]
  },
  {
   "cell_type": "code",
   "execution_count": 5,
   "metadata": {
    "execution": {
     "iopub.execute_input": "2020-09-04T23:33:38.273459Z",
     "iopub.status.busy": "2020-09-04T23:33:38.273154Z",
     "iopub.status.idle": "2020-09-04T23:34:05.751364Z",
     "shell.execute_reply": "2020-09-04T23:34:05.750450Z",
     "shell.execute_reply.started": "2020-09-04T23:33:38.273429Z"
    }
   },
   "outputs": [],
   "source": [
    "# Joins\n",
    "df_join=pd.merge(df_order,df_produto,  \n",
    "                 on='product_id', \n",
    "                 how='left')\n",
    "\n",
    "df_join=pd.merge(df_join,df_depat ,  \n",
    "                 on='department_id', \n",
    "                 how='left')\n",
    "\n",
    "df_join=pd.merge(df_join,df_pedido ,  \n",
    "                 on='order_id', \n",
    "                 how='left')"
   ]
  },
  {
   "cell_type": "code",
   "execution_count": 6,
   "metadata": {
    "execution": {
     "iopub.execute_input": "2020-09-04T23:34:05.753328Z",
     "iopub.status.busy": "2020-09-04T23:34:05.753063Z",
     "iopub.status.idle": "2020-09-04T23:34:05.757662Z",
     "shell.execute_reply": "2020-09-04T23:34:05.756923Z",
     "shell.execute_reply.started": "2020-09-04T23:34:05.753301Z"
    }
   },
   "outputs": [],
   "source": [
    "def get_most_ordered_products(df_base, user_id):\n",
    "    return \"\\n\".join(df_base[df_base[\"user_id\"]==user_id].groupby('product_name').count().sort_values('order_id')['order_id'][:15].to_frame().to_string(\n",
    "        header=False,\n",
    "        col_space=5\n",
    "    ).split('\\n')[1:])[:-1]+'1'\n",
    "\n",
    "# test\n",
    "# print(get_most_ordered_products(df_join,202279))"
   ]
  },
  {
   "cell_type": "code",
   "execution_count": 7,
   "metadata": {
    "execution": {
     "iopub.execute_input": "2020-09-04T23:34:42.139096Z",
     "iopub.status.busy": "2020-09-04T23:34:42.138805Z",
     "iopub.status.idle": "2020-09-04T23:34:42.144189Z",
     "shell.execute_reply": "2020-09-04T23:34:42.142939Z",
     "shell.execute_reply.started": "2020-09-04T23:34:42.139067Z"
    }
   },
   "outputs": [],
   "source": [
    "def get_last_order_products(user_id, df_base):\n",
    "    last_order_id =  df_base[df_base[\"user_id\"]==user_id]['order_id'].max() ### ordenar por order_number e selecionar order_id\n",
    "    last_order = df_base[(df_base['user_id']==user_id) & (df_base['order_id'] == last_order_id)]\n",
    "    return '\\n'.join(last_order.groupby('product_name')['product_name'].count().to_frame().to_string(\n",
    "        header=False,\n",
    "        col_space=5\n",
    "    ).split('\\n')[1:])[:-1]+'1'\n",
    "\n",
    "\n",
    "# test\n",
    "# print(get_last_order_products(202279, df_join))"
   ]
  },
  {
   "cell_type": "markdown",
   "metadata": {},
   "source": [
    "# Mensagens padrão"
   ]
  },
  {
   "cell_type": "code",
   "execution_count": null,
   "metadata": {
    "execution": {
     "iopub.execute_input": "2020-09-04T23:35:12.905529Z",
     "iopub.status.busy": "2020-09-04T23:35:12.905233Z",
     "iopub.status.idle": "2020-09-04T23:35:12.911882Z",
     "shell.execute_reply": "2020-09-04T23:35:12.911156Z",
     "shell.execute_reply.started": "2020-09-04T23:35:12.905500Z"
    }
   },
   "outputs": [],
   "source": [
    "token = '783192310:AAGHRbqknl-gArkYLcbTYmk2necszfIhQuA'\n",
    "bot = telebot.TeleBot(token, parse_mode='HTML')\n",
    "\n",
    "\n",
    "@bot.message_handler(commands=['start'])\n",
    "def churn_message(message):\n",
    "    chat_id = message.chat.id\n",
    "    text = f'''\n",
    "Olá Rafaela! Como vai você?\n",
    "\n",
    "Verificamos que sua última compra foi há mais de 10 dias, e para te ajudar posso montar seu carrinho.\n",
    "Se a compra for finalizada nos próximos <b>dois dias</b> a taxa de entrega é por <b>nossa conta</b> :)\n",
    "\n",
    "Deseja ver as sugestões que eu preparei especialmente pra você?\n",
    "\n",
    "/status_pedido\n",
    "/ultimo_pedido\n",
    "/mais_comprados\n",
    "/nao\n",
    "'''\n",
    "    bot.send_message(chat_id, text)\n",
    "\n",
    "    \n",
    "@bot.message_handler(commands=['status_pedido'])\n",
    "def send_welcome(message):\n",
    "    chat_id = message.chat.id\n",
    "    text = \"\"\"\n",
    "Sua compra será entregue às <b>15h - 07/09</b>\n",
    "    \"\"\"\n",
    "    bot.send_message(chat_id, text)\n",
    "\n",
    "    \n",
    "@bot.message_handler(commands=['ultimo_pedido'])\n",
    "def churn_yes(message):\n",
    "    chat_id = message.chat.id\n",
    "    text = f'''\n",
    "O que você acha desse carrinho que montei especialmente para você ❤️:\n",
    "\n",
    "{get_last_order_products(202279, df_join)}\n",
    "\n",
    "Deseja confirmar o pedido?\n",
    "/sim\n",
    "/nao\n",
    "    '''\n",
    "    bot.send_message(chat_id, text)\n",
    "       \n",
    "\n",
    "@bot.message_handler(commands=['mais_comprados'])\n",
    "def churn_yes(message):\n",
    "    chat_id = message.chat.id\n",
    "    text = f'''\n",
    "O que você acha desse carrinho que montei especialmente para você ❤️:\n",
    "\n",
    "{get_most_ordered_products(df_join,202279)}\n",
    "\n",
    "Deseja confirmar o pedido?\n",
    "/sim\n",
    "/nao\n",
    "    '''\n",
    "    bot.send_message(chat_id, text)\n",
    "\n",
    "\n",
    "@bot.message_handler(commands=['sim'])\n",
    "def send_welcome(message):\n",
    "    chat_id = message.chat.id\n",
    "    text = f\"\"\"\n",
    "Estamos quase lá. Confirme a opção de pagamento, por gentileza:\n",
    "- Cartão de Crédito Mastercard Final 8846\n",
    "\n",
    "Está correto?\n",
    "/correto\n",
    "/mudar_forma_pagamento\n",
    "    \"\"\"\n",
    "    bot.send_message(chat_id, text)\n",
    "\n",
    "@bot.message_handler(commands=['correto'])\n",
    "def send_welcome(message):\n",
    "    chat_id = message.chat.id\n",
    "    text = f\"\"\"\n",
    "Prontinho :)\n",
    "\n",
    "Sua entrega será realizada em até dois dias.\n",
    "    \"\"\"\n",
    "    bot.send_message(chat_id, text)\n",
    "\n",
    "@bot.message_handler(commands=['mudar_forma_pagamento'])\n",
    "def send_welcome(message):\n",
    "    chat_id = message.chat.id\n",
    "    text = f\"\"\"\n",
    "Por questões de segurança, a alteração da forma de pagamento só poder ser feitas pelo site ou aplicativo.\n",
    "\n",
    "<a>https://www.instacart.com/store/account/payment</a>\n",
    "    \"\"\"\n",
    "    bot.send_message(chat_id, text)\n",
    "    \n",
    "\n",
    "@bot.message_handler(commands=['nao'])\n",
    "def churn_yes(message):\n",
    "    chat_id = message.chat.id\n",
    "    text = f'''\n",
    "Que pena :(\n",
    "\n",
    "Quando precisar de algo é só chamar me com /start. \n",
    "Até breve!\n",
    "    '''\n",
    "    bot.send_message(chat_id, text)\n",
    "\n",
    "bot.polling()"
   ]
  },
  {
   "cell_type": "code",
   "execution_count": null,
   "metadata": {
    "execution": {
     "iopub.execute_input": "2020-09-04T23:35:17.583939Z",
     "iopub.status.busy": "2020-09-04T23:35:17.583651Z"
    }
   },
   "outputs": [],
   "source": []
  },
  {
   "cell_type": "code",
   "execution_count": null,
   "metadata": {},
   "outputs": [],
   "source": []
  }
 ],
 "metadata": {
  "kernelspec": {
   "display_name": "Python 3",
   "language": "python",
   "name": "python3"
  },
  "language_info": {
   "codemirror_mode": {
    "name": "ipython",
    "version": 3
   },
   "file_extension": ".py",
   "mimetype": "text/x-python",
   "name": "python",
   "nbconvert_exporter": "python",
   "pygments_lexer": "ipython3",
   "version": "3.7.7"
  }
 },
 "nbformat": 4,
 "nbformat_minor": 4
}
