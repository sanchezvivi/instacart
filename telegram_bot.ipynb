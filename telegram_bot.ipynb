{
 "cells": [
  {
   "cell_type": "code",
   "execution_count": 24,
   "metadata": {
    "execution": {
     "iopub.execute_input": "2020-08-29T00:41:28.194522Z",
     "iopub.status.busy": "2020-08-29T00:41:28.194241Z",
     "iopub.status.idle": "2020-08-29T00:41:28.197669Z",
     "shell.execute_reply": "2020-08-29T00:41:28.196828Z",
     "shell.execute_reply.started": "2020-08-29T00:41:28.194496Z"
    }
   },
   "outputs": [],
   "source": [
    "import telebot"
   ]
  },
  {
   "cell_type": "code",
   "execution_count": 25,
   "metadata": {
    "execution": {
     "iopub.execute_input": "2020-08-29T00:41:28.523685Z",
     "iopub.status.busy": "2020-08-29T00:41:28.523381Z",
     "iopub.status.idle": "2020-08-29T00:41:28.526778Z",
     "shell.execute_reply": "2020-08-29T00:41:28.526092Z",
     "shell.execute_reply.started": "2020-08-29T00:41:28.523657Z"
    }
   },
   "outputs": [],
   "source": [
    "token = '783192310:AAGHRbqknl-gArkYLcbTYmk2necszfIhQuA'"
   ]
  },
  {
   "cell_type": "code",
   "execution_count": 26,
   "metadata": {
    "execution": {
     "iopub.execute_input": "2020-08-29T00:41:29.292145Z",
     "iopub.status.busy": "2020-08-29T00:41:29.291727Z",
     "iopub.status.idle": "2020-08-29T00:41:29.296068Z",
     "shell.execute_reply": "2020-08-29T00:41:29.295259Z",
     "shell.execute_reply.started": "2020-08-29T00:41:29.292114Z"
    }
   },
   "outputs": [],
   "source": [
    "tb = telebot.TeleBot(token, parse_mode=None) # You can set parse_mode by default. HTML or MARKDOWN"
   ]
  },
  {
   "cell_type": "code",
   "execution_count": 33,
   "metadata": {
    "execution": {
     "iopub.execute_input": "2020-08-29T00:46:16.335926Z",
     "iopub.status.busy": "2020-08-29T00:46:16.335623Z",
     "iopub.status.idle": "2020-08-29T00:46:16.344370Z",
     "shell.execute_reply": "2020-08-29T00:46:16.343649Z",
     "shell.execute_reply.started": "2020-08-29T00:46:16.335896Z"
    }
   },
   "outputs": [],
   "source": [
    "# Handles all text messages that contains the commands '/start' or '/help'.\n",
    "@bot.message_handler(commands=['start', 'help'])\n",
    "def handle_start_help(message):\n",
    "    pass\n",
    "\n",
    "# Handles all sent documents and audio files\n",
    "@bot.message_handler(content_types=['document', 'audio'])\n",
    "def handle_docs_audio(message):\n",
    "    pass\n",
    "\n",
    "# Handles all text messages that match the regular expression\n",
    "@bot.message_handler(regexp=\"SOME_REGEXP\")\n",
    "def handle_message(message):\n",
    "    pass\n",
    "\n",
    "# Handles all messages for which the lambda returns True\n",
    "@bot.message_handler(func=lambda message: message.document.mime_type == 'text/plain', content_types=['document'])\n",
    "def handle_text_doc(message):\n",
    "    pass\n",
    "\n",
    "# Which could also be defined as:\n",
    "def test_message(message):\n",
    "    return message.document.mime_type == 'text/plain'\n",
    "\n",
    "@bot.message_handler(func=test_message, content_types=['document'])\n",
    "def handle_text_doc(message):\n",
    "    pass\n",
    "\n",
    "# Handlers can be stacked to create a function which will be called if either message_handler is eligible\n",
    "# This handler will be called if the message starts with '/hello' OR is some emoji\n",
    "@bot.message_handler(commands=['hello'])\n",
    "@bot.message_handler(func=lambda msg: msg.text.encode(\"utf-8\") == SOME_FANCY_EMOJI)\n",
    "def send_something(message):\n",
    "    pass"
   ]
  },
  {
   "cell_type": "code",
   "execution_count": 36,
   "metadata": {
    "execution": {
     "iopub.execute_input": "2020-08-29T00:47:02.067442Z",
     "iopub.status.busy": "2020-08-29T00:47:02.067097Z",
     "iopub.status.idle": "2020-08-29T00:47:02.299432Z",
     "shell.execute_reply": "2020-08-29T00:47:02.298553Z",
     "shell.execute_reply.started": "2020-08-29T00:47:02.067408Z"
    }
   },
   "outputs": [],
   "source": [
    "user = tb.get_me()"
   ]
  },
  {
   "cell_type": "code",
   "execution_count": 42,
   "metadata": {
    "execution": {
     "iopub.execute_input": "2020-08-29T01:09:33.862185Z",
     "iopub.status.busy": "2020-08-29T01:09:33.861870Z",
     "iopub.status.idle": "2020-08-29T01:11:35.953571Z",
     "shell.execute_reply": "2020-08-29T01:11:35.952800Z",
     "shell.execute_reply.started": "2020-08-29T01:09:33.862151Z"
    }
   },
   "outputs": [],
   "source": [
    "bot.polling()"
   ]
  },
  {
   "cell_type": "code",
   "execution_count": 49,
   "metadata": {
    "execution": {
     "iopub.execute_input": "2020-08-29T01:13:50.485962Z",
     "iopub.status.busy": "2020-08-29T01:13:50.485673Z",
     "iopub.status.idle": "2020-08-29T01:13:50.902573Z",
     "shell.execute_reply": "2020-08-29T01:13:50.901709Z",
     "shell.execute_reply.started": "2020-08-29T01:13:50.485935Z"
    }
   },
   "outputs": [
    {
     "data": {
      "text/plain": [
       "<telebot.types.Message at 0x1113e58d0>"
      ]
     },
     "execution_count": 49,
     "metadata": {},
     "output_type": "execute_result"
    }
   ],
   "source": [
    "tb.send_message(chat_id = '@pads_instacart', text = 'Hellos')"
   ]
  }
 ],
 "metadata": {
  "kernelspec": {
   "display_name": "Python 3",
   "language": "python",
   "name": "python3"
  },
  "language_info": {
   "codemirror_mode": {
    "name": "ipython",
    "version": 3
   },
   "file_extension": ".py",
   "mimetype": "text/x-python",
   "name": "python",
   "nbconvert_exporter": "python",
   "pygments_lexer": "ipython3",
   "version": "3.7.7"
  }
 },
 "nbformat": 4,
 "nbformat_minor": 4
}
