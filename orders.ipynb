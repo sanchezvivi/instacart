{
 "cells": [
  {
   "cell_type": "code",
   "execution_count": 1,
   "metadata": {
    "execution": {
     "iopub.execute_input": "2020-08-08T18:34:01.407232Z",
     "iopub.status.busy": "2020-08-08T18:34:01.406848Z",
     "iopub.status.idle": "2020-08-08T18:34:03.262268Z",
     "shell.execute_reply": "2020-08-08T18:34:03.261547Z",
     "shell.execute_reply.started": "2020-08-08T18:34:01.407197Z"
    }
   },
   "outputs": [],
   "source": [
    "import pandas as pd\n",
    "import dask.dataframe as dd\n",
    "import matplotlib.pyplot as plt\n",
    "import seaborn as sns\n",
    "%matplotlib inline\n",
    "import seaborn as sns\n",
    "sns.set_context('talk')\n",
    "sns.set_style('white')\n",
    "pd.set_option('display.float_format', lambda x: '%.2f' % x)"
   ]
  },
  {
   "cell_type": "code",
   "execution_count": 7,
   "metadata": {
    "execution": {
     "iopub.execute_input": "2020-08-08T18:34:47.351516Z",
     "iopub.status.busy": "2020-08-08T18:34:47.351219Z",
     "iopub.status.idle": "2020-08-08T18:34:47.354929Z",
     "shell.execute_reply": "2020-08-08T18:34:47.354222Z",
     "shell.execute_reply.started": "2020-08-08T18:34:47.351489Z"
    }
   },
   "outputs": [],
   "source": [
    "datapath = 'data/'"
   ]
  },
  {
   "cell_type": "code",
   "execution_count": 19,
   "metadata": {
    "execution": {
     "iopub.execute_input": "2020-08-08T18:40:58.799047Z",
     "iopub.status.busy": "2020-08-08T18:40:58.798749Z",
     "iopub.status.idle": "2020-08-08T18:41:00.138603Z",
     "shell.execute_reply": "2020-08-08T18:41:00.137842Z",
     "shell.execute_reply.started": "2020-08-08T18:40:58.799014Z"
    }
   },
   "outputs": [],
   "source": [
    "#products = dd.read_csv(datapath+'products.csv')\n",
    "orders = pd.read_csv(datapath+'orders.csv')\n",
    "#departments = dd.read_csv(datapath+'departments.csv')\n",
    "#order_products = dd.read_csv(datapath+'order_products__prior.csv')\n",
    "#aisles = dd.read_csv(datapath+'aisles.csv')"
   ]
  },
  {
   "cell_type": "code",
   "execution_count": 21,
   "metadata": {
    "execution": {
     "iopub.execute_input": "2020-08-08T18:41:03.389428Z",
     "iopub.status.busy": "2020-08-08T18:41:03.389138Z",
     "iopub.status.idle": "2020-08-08T18:41:04.063737Z",
     "shell.execute_reply": "2020-08-08T18:41:04.062987Z",
     "shell.execute_reply.started": "2020-08-08T18:41:03.389400Z"
    }
   },
   "outputs": [
    {
     "data": {
      "text/html": [
       "<div>\n",
       "<style scoped>\n",
       "    .dataframe tbody tr th:only-of-type {\n",
       "        vertical-align: middle;\n",
       "    }\n",
       "\n",
       "    .dataframe tbody tr th {\n",
       "        vertical-align: top;\n",
       "    }\n",
       "\n",
       "    .dataframe thead th {\n",
       "        text-align: right;\n",
       "    }\n",
       "</style>\n",
       "<table border=\"1\" class=\"dataframe\">\n",
       "  <thead>\n",
       "    <tr style=\"text-align: right;\">\n",
       "      <th></th>\n",
       "      <th>order_id</th>\n",
       "      <th>user_id</th>\n",
       "      <th>order_number</th>\n",
       "      <th>order_dow</th>\n",
       "      <th>order_hour_of_day</th>\n",
       "      <th>days_since_prior_order</th>\n",
       "    </tr>\n",
       "  </thead>\n",
       "  <tbody>\n",
       "    <tr>\n",
       "      <th>count</th>\n",
       "      <td>3421083.00</td>\n",
       "      <td>3421083.00</td>\n",
       "      <td>3421083.00</td>\n",
       "      <td>3421083.00</td>\n",
       "      <td>3421083.00</td>\n",
       "      <td>3214874.00</td>\n",
       "    </tr>\n",
       "    <tr>\n",
       "      <th>mean</th>\n",
       "      <td>1710542.00</td>\n",
       "      <td>102978.21</td>\n",
       "      <td>17.15</td>\n",
       "      <td>2.78</td>\n",
       "      <td>13.45</td>\n",
       "      <td>11.11</td>\n",
       "    </tr>\n",
       "    <tr>\n",
       "      <th>std</th>\n",
       "      <td>987581.74</td>\n",
       "      <td>59533.72</td>\n",
       "      <td>17.73</td>\n",
       "      <td>2.05</td>\n",
       "      <td>4.23</td>\n",
       "      <td>9.21</td>\n",
       "    </tr>\n",
       "    <tr>\n",
       "      <th>min</th>\n",
       "      <td>1.00</td>\n",
       "      <td>1.00</td>\n",
       "      <td>1.00</td>\n",
       "      <td>0.00</td>\n",
       "      <td>0.00</td>\n",
       "      <td>0.00</td>\n",
       "    </tr>\n",
       "    <tr>\n",
       "      <th>25%</th>\n",
       "      <td>855271.50</td>\n",
       "      <td>51394.00</td>\n",
       "      <td>5.00</td>\n",
       "      <td>1.00</td>\n",
       "      <td>10.00</td>\n",
       "      <td>4.00</td>\n",
       "    </tr>\n",
       "    <tr>\n",
       "      <th>50%</th>\n",
       "      <td>1710542.00</td>\n",
       "      <td>102689.00</td>\n",
       "      <td>11.00</td>\n",
       "      <td>3.00</td>\n",
       "      <td>13.00</td>\n",
       "      <td>7.00</td>\n",
       "    </tr>\n",
       "    <tr>\n",
       "      <th>75%</th>\n",
       "      <td>2565812.50</td>\n",
       "      <td>154385.00</td>\n",
       "      <td>23.00</td>\n",
       "      <td>5.00</td>\n",
       "      <td>16.00</td>\n",
       "      <td>15.00</td>\n",
       "    </tr>\n",
       "    <tr>\n",
       "      <th>max</th>\n",
       "      <td>3421083.00</td>\n",
       "      <td>206209.00</td>\n",
       "      <td>100.00</td>\n",
       "      <td>6.00</td>\n",
       "      <td>23.00</td>\n",
       "      <td>30.00</td>\n",
       "    </tr>\n",
       "  </tbody>\n",
       "</table>\n",
       "</div>"
      ],
      "text/plain": [
       "        order_id    user_id  order_number  order_dow  order_hour_of_day  \\\n",
       "count 3421083.00 3421083.00    3421083.00 3421083.00         3421083.00   \n",
       "mean  1710542.00  102978.21         17.15       2.78              13.45   \n",
       "std    987581.74   59533.72         17.73       2.05               4.23   \n",
       "min         1.00       1.00          1.00       0.00               0.00   \n",
       "25%    855271.50   51394.00          5.00       1.00              10.00   \n",
       "50%   1710542.00  102689.00         11.00       3.00              13.00   \n",
       "75%   2565812.50  154385.00         23.00       5.00              16.00   \n",
       "max   3421083.00  206209.00        100.00       6.00              23.00   \n",
       "\n",
       "       days_since_prior_order  \n",
       "count              3214874.00  \n",
       "mean                    11.11  \n",
       "std                      9.21  \n",
       "min                      0.00  \n",
       "25%                      4.00  \n",
       "50%                      7.00  \n",
       "75%                     15.00  \n",
       "max                     30.00  "
      ]
     },
     "execution_count": 21,
     "metadata": {},
     "output_type": "execute_result"
    }
   ],
   "source": [
    "orders.describe()"
   ]
  },
  {
   "cell_type": "code",
   "execution_count": 37,
   "metadata": {
    "execution": {
     "iopub.execute_input": "2020-08-08T18:44:25.007493Z",
     "iopub.status.busy": "2020-08-08T18:44:25.007177Z",
     "iopub.status.idle": "2020-08-08T18:44:25.146647Z",
     "shell.execute_reply": "2020-08-08T18:44:25.145552Z",
     "shell.execute_reply.started": "2020-08-08T18:44:25.007464Z"
    }
   },
   "outputs": [],
   "source": [
    "df2 = orders.groupby(['order_dow','order_hour_of_day'])['days_since_prior_order'].mean().unstack('order_hour_of_day').fillna(0)"
   ]
  },
  {
   "cell_type": "code",
   "execution_count": 39,
   "metadata": {
    "execution": {
     "iopub.execute_input": "2020-08-08T18:45:44.693394Z",
     "iopub.status.busy": "2020-08-08T18:45:44.693098Z",
     "iopub.status.idle": "2020-08-08T18:45:44.712712Z",
     "shell.execute_reply": "2020-08-08T18:45:44.712015Z",
     "shell.execute_reply.started": "2020-08-08T18:45:44.693366Z"
    }
   },
   "outputs": [
    {
     "data": {
      "text/html": [
       "<div>\n",
       "<style scoped>\n",
       "    .dataframe tbody tr th:only-of-type {\n",
       "        vertical-align: middle;\n",
       "    }\n",
       "\n",
       "    .dataframe tbody tr th {\n",
       "        vertical-align: top;\n",
       "    }\n",
       "\n",
       "    .dataframe thead th {\n",
       "        text-align: right;\n",
       "    }\n",
       "</style>\n",
       "<table border=\"1\" class=\"dataframe\">\n",
       "  <thead>\n",
       "    <tr style=\"text-align: right;\">\n",
       "      <th>order_hour_of_day</th>\n",
       "      <th>0</th>\n",
       "      <th>1</th>\n",
       "      <th>2</th>\n",
       "      <th>3</th>\n",
       "      <th>4</th>\n",
       "      <th>5</th>\n",
       "      <th>6</th>\n",
       "      <th>7</th>\n",
       "      <th>8</th>\n",
       "      <th>9</th>\n",
       "      <th>...</th>\n",
       "      <th>14</th>\n",
       "      <th>15</th>\n",
       "      <th>16</th>\n",
       "      <th>17</th>\n",
       "      <th>18</th>\n",
       "      <th>19</th>\n",
       "      <th>20</th>\n",
       "      <th>21</th>\n",
       "      <th>22</th>\n",
       "      <th>23</th>\n",
       "    </tr>\n",
       "    <tr>\n",
       "      <th>order_dow</th>\n",
       "      <th></th>\n",
       "      <th></th>\n",
       "      <th></th>\n",
       "      <th></th>\n",
       "      <th></th>\n",
       "      <th></th>\n",
       "      <th></th>\n",
       "      <th></th>\n",
       "      <th></th>\n",
       "      <th></th>\n",
       "      <th></th>\n",
       "      <th></th>\n",
       "      <th></th>\n",
       "      <th></th>\n",
       "      <th></th>\n",
       "      <th></th>\n",
       "      <th></th>\n",
       "      <th></th>\n",
       "      <th></th>\n",
       "      <th></th>\n",
       "      <th></th>\n",
       "    </tr>\n",
       "  </thead>\n",
       "  <tbody>\n",
       "    <tr>\n",
       "      <th>0</th>\n",
       "      <td>11.85</td>\n",
       "      <td>12.17</td>\n",
       "      <td>12.82</td>\n",
       "      <td>12.57</td>\n",
       "      <td>12.44</td>\n",
       "      <td>12.02</td>\n",
       "      <td>11.34</td>\n",
       "      <td>11.09</td>\n",
       "      <td>11.24</td>\n",
       "      <td>11.50</td>\n",
       "      <td>...</td>\n",
       "      <td>12.01</td>\n",
       "      <td>12.02</td>\n",
       "      <td>11.96</td>\n",
       "      <td>11.98</td>\n",
       "      <td>11.72</td>\n",
       "      <td>11.44</td>\n",
       "      <td>11.02</td>\n",
       "      <td>10.91</td>\n",
       "      <td>10.78</td>\n",
       "      <td>10.95</td>\n",
       "    </tr>\n",
       "    <tr>\n",
       "      <th>1</th>\n",
       "      <td>12.23</td>\n",
       "      <td>12.10</td>\n",
       "      <td>11.57</td>\n",
       "      <td>11.79</td>\n",
       "      <td>12.11</td>\n",
       "      <td>11.70</td>\n",
       "      <td>10.78</td>\n",
       "      <td>10.72</td>\n",
       "      <td>10.62</td>\n",
       "      <td>10.68</td>\n",
       "      <td>...</td>\n",
       "      <td>11.54</td>\n",
       "      <td>11.56</td>\n",
       "      <td>11.64</td>\n",
       "      <td>11.82</td>\n",
       "      <td>11.67</td>\n",
       "      <td>11.53</td>\n",
       "      <td>11.24</td>\n",
       "      <td>11.08</td>\n",
       "      <td>11.25</td>\n",
       "      <td>11.15</td>\n",
       "    </tr>\n",
       "    <tr>\n",
       "      <th>2</th>\n",
       "      <td>12.05</td>\n",
       "      <td>12.59</td>\n",
       "      <td>11.70</td>\n",
       "      <td>11.76</td>\n",
       "      <td>12.51</td>\n",
       "      <td>11.69</td>\n",
       "      <td>10.97</td>\n",
       "      <td>10.79</td>\n",
       "      <td>10.80</td>\n",
       "      <td>10.96</td>\n",
       "      <td>...</td>\n",
       "      <td>11.11</td>\n",
       "      <td>11.17</td>\n",
       "      <td>11.29</td>\n",
       "      <td>11.37</td>\n",
       "      <td>11.48</td>\n",
       "      <td>11.15</td>\n",
       "      <td>10.88</td>\n",
       "      <td>10.76</td>\n",
       "      <td>10.80</td>\n",
       "      <td>11.15</td>\n",
       "    </tr>\n",
       "    <tr>\n",
       "      <th>3</th>\n",
       "      <td>12.23</td>\n",
       "      <td>12.36</td>\n",
       "      <td>12.15</td>\n",
       "      <td>12.28</td>\n",
       "      <td>11.79</td>\n",
       "      <td>11.30</td>\n",
       "      <td>10.53</td>\n",
       "      <td>10.49</td>\n",
       "      <td>10.43</td>\n",
       "      <td>10.45</td>\n",
       "      <td>...</td>\n",
       "      <td>10.73</td>\n",
       "      <td>10.77</td>\n",
       "      <td>11.00</td>\n",
       "      <td>10.97</td>\n",
       "      <td>10.98</td>\n",
       "      <td>10.92</td>\n",
       "      <td>10.45</td>\n",
       "      <td>10.35</td>\n",
       "      <td>10.61</td>\n",
       "      <td>10.64</td>\n",
       "    </tr>\n",
       "    <tr>\n",
       "      <th>4</th>\n",
       "      <td>11.83</td>\n",
       "      <td>12.19</td>\n",
       "      <td>11.65</td>\n",
       "      <td>12.45</td>\n",
       "      <td>11.71</td>\n",
       "      <td>11.22</td>\n",
       "      <td>10.31</td>\n",
       "      <td>10.14</td>\n",
       "      <td>10.18</td>\n",
       "      <td>10.25</td>\n",
       "      <td>...</td>\n",
       "      <td>10.58</td>\n",
       "      <td>10.48</td>\n",
       "      <td>10.56</td>\n",
       "      <td>10.73</td>\n",
       "      <td>10.81</td>\n",
       "      <td>10.74</td>\n",
       "      <td>10.43</td>\n",
       "      <td>10.18</td>\n",
       "      <td>10.15</td>\n",
       "      <td>10.40</td>\n",
       "    </tr>\n",
       "    <tr>\n",
       "      <th>5</th>\n",
       "      <td>11.53</td>\n",
       "      <td>11.75</td>\n",
       "      <td>11.86</td>\n",
       "      <td>12.22</td>\n",
       "      <td>11.89</td>\n",
       "      <td>11.57</td>\n",
       "      <td>10.48</td>\n",
       "      <td>10.44</td>\n",
       "      <td>10.26</td>\n",
       "      <td>10.19</td>\n",
       "      <td>...</td>\n",
       "      <td>10.39</td>\n",
       "      <td>10.37</td>\n",
       "      <td>10.48</td>\n",
       "      <td>10.71</td>\n",
       "      <td>10.92</td>\n",
       "      <td>10.86</td>\n",
       "      <td>10.52</td>\n",
       "      <td>10.53</td>\n",
       "      <td>10.50</td>\n",
       "      <td>10.68</td>\n",
       "    </tr>\n",
       "    <tr>\n",
       "      <th>6</th>\n",
       "      <td>11.67</td>\n",
       "      <td>11.97</td>\n",
       "      <td>11.63</td>\n",
       "      <td>12.24</td>\n",
       "      <td>12.51</td>\n",
       "      <td>11.58</td>\n",
       "      <td>11.26</td>\n",
       "      <td>10.81</td>\n",
       "      <td>11.14</td>\n",
       "      <td>11.40</td>\n",
       "      <td>...</td>\n",
       "      <td>11.52</td>\n",
       "      <td>11.52</td>\n",
       "      <td>11.52</td>\n",
       "      <td>11.52</td>\n",
       "      <td>11.44</td>\n",
       "      <td>11.13</td>\n",
       "      <td>10.88</td>\n",
       "      <td>10.74</td>\n",
       "      <td>10.69</td>\n",
       "      <td>10.81</td>\n",
       "    </tr>\n",
       "  </tbody>\n",
       "</table>\n",
       "<p>7 rows × 24 columns</p>\n",
       "</div>"
      ],
      "text/plain": [
       "order_hour_of_day    0     1     2     3     4     5     6     7     8     9   \\\n",
       "order_dow                                                                       \n",
       "0                 11.85 12.17 12.82 12.57 12.44 12.02 11.34 11.09 11.24 11.50   \n",
       "1                 12.23 12.10 11.57 11.79 12.11 11.70 10.78 10.72 10.62 10.68   \n",
       "2                 12.05 12.59 11.70 11.76 12.51 11.69 10.97 10.79 10.80 10.96   \n",
       "3                 12.23 12.36 12.15 12.28 11.79 11.30 10.53 10.49 10.43 10.45   \n",
       "4                 11.83 12.19 11.65 12.45 11.71 11.22 10.31 10.14 10.18 10.25   \n",
       "5                 11.53 11.75 11.86 12.22 11.89 11.57 10.48 10.44 10.26 10.19   \n",
       "6                 11.67 11.97 11.63 12.24 12.51 11.58 11.26 10.81 11.14 11.40   \n",
       "\n",
       "order_hour_of_day  ...    14    15    16    17    18    19    20    21    22  \\\n",
       "order_dow          ...                                                         \n",
       "0                  ... 12.01 12.02 11.96 11.98 11.72 11.44 11.02 10.91 10.78   \n",
       "1                  ... 11.54 11.56 11.64 11.82 11.67 11.53 11.24 11.08 11.25   \n",
       "2                  ... 11.11 11.17 11.29 11.37 11.48 11.15 10.88 10.76 10.80   \n",
       "3                  ... 10.73 10.77 11.00 10.97 10.98 10.92 10.45 10.35 10.61   \n",
       "4                  ... 10.58 10.48 10.56 10.73 10.81 10.74 10.43 10.18 10.15   \n",
       "5                  ... 10.39 10.37 10.48 10.71 10.92 10.86 10.52 10.53 10.50   \n",
       "6                  ... 11.52 11.52 11.52 11.52 11.44 11.13 10.88 10.74 10.69   \n",
       "\n",
       "order_hour_of_day    23  \n",
       "order_dow                \n",
       "0                 10.95  \n",
       "1                 11.15  \n",
       "2                 11.15  \n",
       "3                 10.64  \n",
       "4                 10.40  \n",
       "5                 10.68  \n",
       "6                 10.81  \n",
       "\n",
       "[7 rows x 24 columns]"
      ]
     },
     "execution_count": 39,
     "metadata": {},
     "output_type": "execute_result"
    }
   ],
   "source": [
    "df2"
   ]
  },
  {
   "cell_type": "code",
   "execution_count": 38,
   "metadata": {
    "execution": {
     "iopub.execute_input": "2020-08-08T18:44:55.357944Z",
     "iopub.status.busy": "2020-08-08T18:44:55.357634Z",
     "iopub.status.idle": "2020-08-08T18:44:55.694419Z",
     "shell.execute_reply": "2020-08-08T18:44:55.693790Z",
     "shell.execute_reply.started": "2020-08-08T18:44:55.357915Z"
    }
   },
   "outputs": [
    {
     "data": {
      "text/plain": [
       "Text(0.5, 1.0, 'Média de dias desde a última compra por dia da semana e horário')"
      ]
     },
     "execution_count": 38,
     "metadata": {},
     "output_type": "execute_result"
    },
    {
     "data": {
      "image/png": "[encoded data removed]",
      "text/plain": [
       "<Figure size 1800x504 with 2 Axes>"
      ]
     },
     "metadata": {},
     "output_type": "display_data"
    }
   ],
   "source": [
    "plt.figure(figsize = (25,7))\n",
    "sns.heatmap(data = df2, cmap=\"YlGnBu\", annot = False)\n",
    "plt.title('Média de dias desde a última compra por dia da semana e horário')"
   ]
  },
  {
   "cell_type": "code",
   "execution_count": 52,
   "metadata": {
    "execution": {
     "iopub.execute_input": "2020-08-08T18:49:19.426749Z",
     "iopub.status.busy": "2020-08-08T18:49:19.426408Z",
     "iopub.status.idle": "2020-08-08T18:49:19.573934Z",
     "shell.execute_reply": "2020-08-08T18:49:19.573190Z",
     "shell.execute_reply.started": "2020-08-08T18:49:19.426717Z"
    }
   },
   "outputs": [],
   "source": [
    "users_until_10 = orders.groupby(\"user_id\")[\"order_number\"].count()[orders.groupby(\"user_id\")[\"order_number\"].count() <= 10]"
   ]
  },
  {
   "cell_type": "code",
   "execution_count": 64,
   "metadata": {
    "execution": {
     "iopub.execute_input": "2020-08-08T18:53:06.866327Z",
     "iopub.status.busy": "2020-08-08T18:53:06.866004Z",
     "iopub.status.idle": "2020-08-08T18:53:07.041590Z",
     "shell.execute_reply": "2020-08-08T18:53:07.040933Z",
     "shell.execute_reply.started": "2020-08-08T18:53:06.866296Z"
    }
   },
   "outputs": [],
   "source": [
    "df3 = orders[orders['user_id'].isin(users_until_10)].groupby(['order_dow','order_hour_of_day'])['days_since_prior_order'].mean().unstack('order_hour_of_day').fillna(0)"
   ]
  },
  {
   "cell_type": "code",
   "execution_count": 65,
   "metadata": {
    "execution": {
     "iopub.execute_input": "2020-08-08T18:53:07.391004Z",
     "iopub.status.busy": "2020-08-08T18:53:07.390715Z",
     "iopub.status.idle": "2020-08-08T18:53:07.698751Z",
     "shell.execute_reply": "2020-08-08T18:53:07.698066Z",
     "shell.execute_reply.started": "2020-08-08T18:53:07.390977Z"
    }
   },
   "outputs": [
    {
     "data": {
      "text/plain": [
       "Text(0.5, 1.0, 'Média de dias desde a última compra para usuários com menos de 10 pedidos')"
      ]
     },
     "execution_count": 65,
     "metadata": {},
     "output_type": "execute_result"
    },
    {
     "data": {
      "image/png": "[encoded data removed]",
      "text/plain": [
       "<Figure size 1800x504 with 2 Axes>"
      ]
     },
     "metadata": {},
     "output_type": "display_data"
    }
   ],
   "source": [
    "plt.figure(figsize = (25,7))\n",
    "sns.heatmap(data = df3, cmap=\"YlGnBu\", annot = False)\n",
    "plt.title('Média de dias desde a última compra para usuários com menos de 10 pedidos')"
   ]
  },
  {
   "cell_type": "code",
   "execution_count": null,
   "metadata": {},
   "outputs": [],
   "source": []
  },
  {
   "cell_type": "code",
   "execution_count": null,
   "metadata": {},
   "outputs": [],
   "source": [
    "plt.figure(figsize = (25,7))\n",
    "sns.heatmap(data = df2, cmap=\"YlGnBu\", annot = True)"
   ]
  }
 ],
 "metadata": {
  "kernelspec": {
   "display_name": "Python 3",
   "language": "python",
   "name": "python3"
  },
  "language_info": {
   "codemirror_mode": {
    "name": "ipython",
    "version": 3
   },
   "file_extension": ".py",
   "mimetype": "text/x-python",
   "name": "python",
   "nbconvert_exporter": "python",
   "pygments_lexer": "ipython3",
   "version": "3.7.7"
  }
 },
 "nbformat": 4,
 "nbformat_minor": 4
}
